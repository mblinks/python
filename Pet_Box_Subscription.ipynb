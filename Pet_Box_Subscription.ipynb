{
  "nbformat": 4,
  "nbformat_minor": 0,
  "metadata": {
    "colab": {
      "provenance": []
    },
    "kernelspec": {
      "name": "python3",
      "display_name": "Python 3"
    },
    "language_info": {
      "name": "python"
    }
  },
  "cells": [
    {
      "cell_type": "markdown",
      "source": [
        "# Pet Box Subscription"
      ],
      "metadata": {
        "id": "Ztxfj0WlUdfC"
      }
    },
    {
      "cell_type": "code",
      "execution_count": null,
      "metadata": {
        "id": "rnKI5kNKcune"
      },
      "outputs": [],
      "source": [
        "# import the pandas library\n",
        "import pandas as pd"
      ]
    },
    {
      "cell_type": "code",
      "source": [
        "# import the pandas the csv file\n",
        "df = pd.read_csv('pet_supplies_2212.csv')"
      ],
      "metadata": {
        "id": "2DtfoBO9eTfG"
      },
      "execution_count": null,
      "outputs": []
    },
    {
      "cell_type": "code",
      "source": [
        "df"
      ],
      "metadata": {
        "colab": {
          "base_uri": "https://localhost:8080/",
          "height": 423
        },
        "id": "6GFyi3C2ejL7",
        "outputId": "08799165-4b48-4844-9a7c-e84cfa89a8ac"
      },
      "execution_count": null,
      "outputs": [
        {
          "output_type": "execute_result",
          "data": {
            "text/plain": [
              "      product_id   category animal    size  price    sales  rating  \\\n",
              "0              1       Food   Bird   large   51.1  1860.62     7.0   \n",
              "1              2    Housing   Bird  MEDIUM  35.98   963.60     6.0   \n",
              "2              3       Food    Dog  medium  31.23   898.30     5.0   \n",
              "3              4   Medicine    Cat   small  24.95   982.15     6.0   \n",
              "4              5    Housing    Cat   Small  26.18   832.63     7.0   \n",
              "...          ...        ...    ...     ...    ...      ...     ...   \n",
              "1495        1496       Food   Bird  medium  40.91  1203.36     5.0   \n",
              "1496        1497  Equipment    Dog   small  32.89  1099.97     5.0   \n",
              "1497        1498       Food   Fish   Small  25.79   724.02     3.0   \n",
              "1498        1499   Medicine   Fish   small  19.94   658.66     5.0   \n",
              "1499        1500       Food    Cat  Medium  25.95   826.08     4.0   \n",
              "\n",
              "      repeat_purchase  \n",
              "0                   1  \n",
              "1                   0  \n",
              "2                   1  \n",
              "3                   1  \n",
              "4                   1  \n",
              "...               ...  \n",
              "1495                0  \n",
              "1496                0  \n",
              "1497                0  \n",
              "1498                1  \n",
              "1499                1  \n",
              "\n",
              "[1500 rows x 8 columns]"
            ],
            "text/html": [
              "\n",
              "  <div id=\"df-470fa20d-bdfb-400a-b64b-ae409353b869\" class=\"colab-df-container\">\n",
              "    <div>\n",
              "<style scoped>\n",
              "    .dataframe tbody tr th:only-of-type {\n",
              "        vertical-align: middle;\n",
              "    }\n",
              "\n",
              "    .dataframe tbody tr th {\n",
              "        vertical-align: top;\n",
              "    }\n",
              "\n",
              "    .dataframe thead th {\n",
              "        text-align: right;\n",
              "    }\n",
              "</style>\n",
              "<table border=\"1\" class=\"dataframe\">\n",
              "  <thead>\n",
              "    <tr style=\"text-align: right;\">\n",
              "      <th></th>\n",
              "      <th>product_id</th>\n",
              "      <th>category</th>\n",
              "      <th>animal</th>\n",
              "      <th>size</th>\n",
              "      <th>price</th>\n",
              "      <th>sales</th>\n",
              "      <th>rating</th>\n",
              "      <th>repeat_purchase</th>\n",
              "    </tr>\n",
              "  </thead>\n",
              "  <tbody>\n",
              "    <tr>\n",
              "      <th>0</th>\n",
              "      <td>1</td>\n",
              "      <td>Food</td>\n",
              "      <td>Bird</td>\n",
              "      <td>large</td>\n",
              "      <td>51.1</td>\n",
              "      <td>1860.62</td>\n",
              "      <td>7.0</td>\n",
              "      <td>1</td>\n",
              "    </tr>\n",
              "    <tr>\n",
              "      <th>1</th>\n",
              "      <td>2</td>\n",
              "      <td>Housing</td>\n",
              "      <td>Bird</td>\n",
              "      <td>MEDIUM</td>\n",
              "      <td>35.98</td>\n",
              "      <td>963.60</td>\n",
              "      <td>6.0</td>\n",
              "      <td>0</td>\n",
              "    </tr>\n",
              "    <tr>\n",
              "      <th>2</th>\n",
              "      <td>3</td>\n",
              "      <td>Food</td>\n",
              "      <td>Dog</td>\n",
              "      <td>medium</td>\n",
              "      <td>31.23</td>\n",
              "      <td>898.30</td>\n",
              "      <td>5.0</td>\n",
              "      <td>1</td>\n",
              "    </tr>\n",
              "    <tr>\n",
              "      <th>3</th>\n",
              "      <td>4</td>\n",
              "      <td>Medicine</td>\n",
              "      <td>Cat</td>\n",
              "      <td>small</td>\n",
              "      <td>24.95</td>\n",
              "      <td>982.15</td>\n",
              "      <td>6.0</td>\n",
              "      <td>1</td>\n",
              "    </tr>\n",
              "    <tr>\n",
              "      <th>4</th>\n",
              "      <td>5</td>\n",
              "      <td>Housing</td>\n",
              "      <td>Cat</td>\n",
              "      <td>Small</td>\n",
              "      <td>26.18</td>\n",
              "      <td>832.63</td>\n",
              "      <td>7.0</td>\n",
              "      <td>1</td>\n",
              "    </tr>\n",
              "    <tr>\n",
              "      <th>...</th>\n",
              "      <td>...</td>\n",
              "      <td>...</td>\n",
              "      <td>...</td>\n",
              "      <td>...</td>\n",
              "      <td>...</td>\n",
              "      <td>...</td>\n",
              "      <td>...</td>\n",
              "      <td>...</td>\n",
              "    </tr>\n",
              "    <tr>\n",
              "      <th>1495</th>\n",
              "      <td>1496</td>\n",
              "      <td>Food</td>\n",
              "      <td>Bird</td>\n",
              "      <td>medium</td>\n",
              "      <td>40.91</td>\n",
              "      <td>1203.36</td>\n",
              "      <td>5.0</td>\n",
              "      <td>0</td>\n",
              "    </tr>\n",
              "    <tr>\n",
              "      <th>1496</th>\n",
              "      <td>1497</td>\n",
              "      <td>Equipment</td>\n",
              "      <td>Dog</td>\n",
              "      <td>small</td>\n",
              "      <td>32.89</td>\n",
              "      <td>1099.97</td>\n",
              "      <td>5.0</td>\n",
              "      <td>0</td>\n",
              "    </tr>\n",
              "    <tr>\n",
              "      <th>1497</th>\n",
              "      <td>1498</td>\n",
              "      <td>Food</td>\n",
              "      <td>Fish</td>\n",
              "      <td>Small</td>\n",
              "      <td>25.79</td>\n",
              "      <td>724.02</td>\n",
              "      <td>3.0</td>\n",
              "      <td>0</td>\n",
              "    </tr>\n",
              "    <tr>\n",
              "      <th>1498</th>\n",
              "      <td>1499</td>\n",
              "      <td>Medicine</td>\n",
              "      <td>Fish</td>\n",
              "      <td>small</td>\n",
              "      <td>19.94</td>\n",
              "      <td>658.66</td>\n",
              "      <td>5.0</td>\n",
              "      <td>1</td>\n",
              "    </tr>\n",
              "    <tr>\n",
              "      <th>1499</th>\n",
              "      <td>1500</td>\n",
              "      <td>Food</td>\n",
              "      <td>Cat</td>\n",
              "      <td>Medium</td>\n",
              "      <td>25.95</td>\n",
              "      <td>826.08</td>\n",
              "      <td>4.0</td>\n",
              "      <td>1</td>\n",
              "    </tr>\n",
              "  </tbody>\n",
              "</table>\n",
              "<p>1500 rows × 8 columns</p>\n",
              "</div>\n",
              "    <div class=\"colab-df-buttons\">\n",
              "\n",
              "  <div class=\"colab-df-container\">\n",
              "    <button class=\"colab-df-convert\" onclick=\"convertToInteractive('df-470fa20d-bdfb-400a-b64b-ae409353b869')\"\n",
              "            title=\"Convert this dataframe to an interactive table.\"\n",
              "            style=\"display:none;\">\n",
              "\n",
              "  <svg xmlns=\"http://www.w3.org/2000/svg\" height=\"24px\" viewBox=\"0 -960 960 960\">\n",
              "    <path d=\"M120-120v-720h720v720H120Zm60-500h600v-160H180v160Zm220 220h160v-160H400v160Zm0 220h160v-160H400v160ZM180-400h160v-160H180v160Zm440 0h160v-160H620v160ZM180-180h160v-160H180v160Zm440 0h160v-160H620v160Z\"/>\n",
              "  </svg>\n",
              "    </button>\n",
              "\n",
              "  <style>\n",
              "    .colab-df-container {\n",
              "      display:flex;\n",
              "      gap: 12px;\n",
              "    }\n",
              "\n",
              "    .colab-df-convert {\n",
              "      background-color: #E8F0FE;\n",
              "      border: none;\n",
              "      border-radius: 50%;\n",
              "      cursor: pointer;\n",
              "      display: none;\n",
              "      fill: #1967D2;\n",
              "      height: 32px;\n",
              "      padding: 0 0 0 0;\n",
              "      width: 32px;\n",
              "    }\n",
              "\n",
              "    .colab-df-convert:hover {\n",
              "      background-color: #E2EBFA;\n",
              "      box-shadow: 0px 1px 2px rgba(60, 64, 67, 0.3), 0px 1px 3px 1px rgba(60, 64, 67, 0.15);\n",
              "      fill: #174EA6;\n",
              "    }\n",
              "\n",
              "    .colab-df-buttons div {\n",
              "      margin-bottom: 4px;\n",
              "    }\n",
              "\n",
              "    [theme=dark] .colab-df-convert {\n",
              "      background-color: #3B4455;\n",
              "      fill: #D2E3FC;\n",
              "    }\n",
              "\n",
              "    [theme=dark] .colab-df-convert:hover {\n",
              "      background-color: #434B5C;\n",
              "      box-shadow: 0px 1px 3px 1px rgba(0, 0, 0, 0.15);\n",
              "      filter: drop-shadow(0px 1px 2px rgba(0, 0, 0, 0.3));\n",
              "      fill: #FFFFFF;\n",
              "    }\n",
              "  </style>\n",
              "\n",
              "    <script>\n",
              "      const buttonEl =\n",
              "        document.querySelector('#df-470fa20d-bdfb-400a-b64b-ae409353b869 button.colab-df-convert');\n",
              "      buttonEl.style.display =\n",
              "        google.colab.kernel.accessAllowed ? 'block' : 'none';\n",
              "\n",
              "      async function convertToInteractive(key) {\n",
              "        const element = document.querySelector('#df-470fa20d-bdfb-400a-b64b-ae409353b869');\n",
              "        const dataTable =\n",
              "          await google.colab.kernel.invokeFunction('convertToInteractive',\n",
              "                                                    [key], {});\n",
              "        if (!dataTable) return;\n",
              "\n",
              "        const docLinkHtml = 'Like what you see? Visit the ' +\n",
              "          '<a target=\"_blank\" href=https://colab.research.google.com/notebooks/data_table.ipynb>data table notebook</a>'\n",
              "          + ' to learn more about interactive tables.';\n",
              "        element.innerHTML = '';\n",
              "        dataTable['output_type'] = 'display_data';\n",
              "        await google.colab.output.renderOutput(dataTable, element);\n",
              "        const docLink = document.createElement('div');\n",
              "        docLink.innerHTML = docLinkHtml;\n",
              "        element.appendChild(docLink);\n",
              "      }\n",
              "    </script>\n",
              "  </div>\n",
              "\n",
              "\n",
              "<div id=\"df-1f3a48bd-19d8-4d13-8aab-d0a8ebbe056f\">\n",
              "  <button class=\"colab-df-quickchart\" onclick=\"quickchart('df-1f3a48bd-19d8-4d13-8aab-d0a8ebbe056f')\"\n",
              "            title=\"Suggest charts.\"\n",
              "            style=\"display:none;\">\n",
              "\n",
              "<svg xmlns=\"http://www.w3.org/2000/svg\" height=\"24px\"viewBox=\"0 0 24 24\"\n",
              "     width=\"24px\">\n",
              "    <g>\n",
              "        <path d=\"M19 3H5c-1.1 0-2 .9-2 2v14c0 1.1.9 2 2 2h14c1.1 0 2-.9 2-2V5c0-1.1-.9-2-2-2zM9 17H7v-7h2v7zm4 0h-2V7h2v10zm4 0h-2v-4h2v4z\"/>\n",
              "    </g>\n",
              "</svg>\n",
              "  </button>\n",
              "\n",
              "<style>\n",
              "  .colab-df-quickchart {\n",
              "    background-color: #E8F0FE;\n",
              "    border: none;\n",
              "    border-radius: 50%;\n",
              "    cursor: pointer;\n",
              "    display: none;\n",
              "    fill: #1967D2;\n",
              "    height: 32px;\n",
              "    padding: 0 0 0 0;\n",
              "    width: 32px;\n",
              "  }\n",
              "\n",
              "  .colab-df-quickchart:hover {\n",
              "    background-color: #E2EBFA;\n",
              "    box-shadow: 0px 1px 2px rgba(60, 64, 67, 0.3), 0px 1px 3px 1px rgba(60, 64, 67, 0.15);\n",
              "    fill: #174EA6;\n",
              "  }\n",
              "\n",
              "  [theme=dark] .colab-df-quickchart {\n",
              "    background-color: #3B4455;\n",
              "    fill: #D2E3FC;\n",
              "  }\n",
              "\n",
              "  [theme=dark] .colab-df-quickchart:hover {\n",
              "    background-color: #434B5C;\n",
              "    box-shadow: 0px 1px 3px 1px rgba(0, 0, 0, 0.15);\n",
              "    filter: drop-shadow(0px 1px 2px rgba(0, 0, 0, 0.3));\n",
              "    fill: #FFFFFF;\n",
              "  }\n",
              "</style>\n",
              "\n",
              "  <script>\n",
              "    async function quickchart(key) {\n",
              "      const charts = await google.colab.kernel.invokeFunction(\n",
              "          'suggestCharts', [key], {});\n",
              "    }\n",
              "    (() => {\n",
              "      let quickchartButtonEl =\n",
              "        document.querySelector('#df-1f3a48bd-19d8-4d13-8aab-d0a8ebbe056f button');\n",
              "      quickchartButtonEl.style.display =\n",
              "        google.colab.kernel.accessAllowed ? 'block' : 'none';\n",
              "    })();\n",
              "  </script>\n",
              "</div>\n",
              "    </div>\n",
              "  </div>\n"
            ]
          },
          "metadata": {},
          "execution_count": 3
        }
      ]
    },
    {
      "cell_type": "code",
      "source": [
        "#check for the number of missing values in all column\n",
        "df.isnull().sum()"
      ],
      "metadata": {
        "colab": {
          "base_uri": "https://localhost:8080/"
        },
        "id": "QwUDf3CvnS9C",
        "outputId": "d0ac1520-3e43-4145-fd12-9d9dea697ea9"
      },
      "execution_count": null,
      "outputs": [
        {
          "output_type": "execute_result",
          "data": {
            "text/plain": [
              "product_id           0\n",
              "category             0\n",
              "animal               0\n",
              "size                 0\n",
              "price                0\n",
              "sales                0\n",
              "rating             150\n",
              "repeat_purchase      0\n",
              "dtype: int64"
            ]
          },
          "metadata": {},
          "execution_count": 4
        }
      ]
    },
    {
      "cell_type": "code",
      "source": [
        "df.isna().any()"
      ],
      "metadata": {
        "colab": {
          "base_uri": "https://localhost:8080/"
        },
        "id": "_xUTqGBTfSkY",
        "outputId": "2e64b43c-d07c-474f-ff16-0911e5aca924"
      },
      "execution_count": null,
      "outputs": [
        {
          "output_type": "execute_result",
          "data": {
            "text/plain": [
              "product_id         False\n",
              "category           False\n",
              "animal             False\n",
              "size               False\n",
              "price              False\n",
              "sales              False\n",
              "rating              True\n",
              "repeat_purchase    False\n",
              "dtype: bool"
            ]
          },
          "metadata": {},
          "execution_count": 5
        }
      ]
    },
    {
      "cell_type": "markdown",
      "source": [
        "## Data Cleaning"
      ],
      "metadata": {
        "id": "dQ_lqCi2VuH3"
      }
    },
    {
      "cell_type": "code",
      "source": [
        "df['category'].isnull().sum()"
      ],
      "metadata": {
        "colab": {
          "base_uri": "https://localhost:8080/"
        },
        "id": "8ExVSFYfnL96",
        "outputId": "68ffe819-3506-41e2-d9f6-41581127afba"
      },
      "execution_count": null,
      "outputs": [
        {
          "output_type": "execute_result",
          "data": {
            "text/plain": [
              "0"
            ]
          },
          "metadata": {},
          "execution_count": 6
        }
      ]
    },
    {
      "cell_type": "code",
      "source": [
        "df['category'].unique()"
      ],
      "metadata": {
        "colab": {
          "base_uri": "https://localhost:8080/"
        },
        "id": "GN-fW9MDhlf2",
        "outputId": "0f4bdd74-c433-45ce-d347-24044860b73a"
      },
      "execution_count": null,
      "outputs": [
        {
          "output_type": "execute_result",
          "data": {
            "text/plain": [
              "array(['Food', 'Housing', 'Medicine', 'Toys', 'Equipment', 'Accessory',\n",
              "       '-'], dtype=object)"
            ]
          },
          "metadata": {},
          "execution_count": 7
        }
      ]
    },
    {
      "cell_type": "code",
      "source": [
        "df['category'].isna().any()"
      ],
      "metadata": {
        "colab": {
          "base_uri": "https://localhost:8080/"
        },
        "id": "I1Pl6UmMm71e",
        "outputId": "1b0418f1-71e5-4137-e884-c6c23c6e8e36"
      },
      "execution_count": null,
      "outputs": [
        {
          "output_type": "execute_result",
          "data": {
            "text/plain": [
              "False"
            ]
          },
          "metadata": {},
          "execution_count": 8
        }
      ]
    },
    {
      "cell_type": "code",
      "source": [
        "df['category'] = df['category'].replace('-', 'Unknown')"
      ],
      "metadata": {
        "id": "6Kq1z2inkyvc"
      },
      "execution_count": null,
      "outputs": []
    },
    {
      "cell_type": "code",
      "source": [
        "df['category'].unique()"
      ],
      "metadata": {
        "colab": {
          "base_uri": "https://localhost:8080/"
        },
        "id": "zji-_Ba_k_k4",
        "outputId": "d3d993d6-e646-47f1-a7dd-af5a233de76c"
      },
      "execution_count": null,
      "outputs": [
        {
          "output_type": "execute_result",
          "data": {
            "text/plain": [
              "array(['Food', 'Housing', 'Medicine', 'Toys', 'Equipment', 'Accessory',\n",
              "       'Unknown'], dtype=object)"
            ]
          },
          "metadata": {},
          "execution_count": 10
        }
      ]
    },
    {
      "cell_type": "code",
      "source": [
        "df['animal'].unique()"
      ],
      "metadata": {
        "colab": {
          "base_uri": "https://localhost:8080/"
        },
        "id": "HMu-6FU2mcfd",
        "outputId": "f028681b-78ef-433b-9356-f054abc55a23"
      },
      "execution_count": null,
      "outputs": [
        {
          "output_type": "execute_result",
          "data": {
            "text/plain": [
              "array(['Bird', 'Dog', 'Cat', 'Fish'], dtype=object)"
            ]
          },
          "metadata": {},
          "execution_count": 11
        }
      ]
    },
    {
      "cell_type": "code",
      "source": [
        "df['animal'].isna().any()"
      ],
      "metadata": {
        "colab": {
          "base_uri": "https://localhost:8080/"
        },
        "id": "ax3Wis1Umrxl",
        "outputId": "360a2c71-1cce-4fb2-869a-e7d8743928ac"
      },
      "execution_count": null,
      "outputs": [
        {
          "output_type": "execute_result",
          "data": {
            "text/plain": [
              "False"
            ]
          },
          "metadata": {},
          "execution_count": 12
        }
      ]
    },
    {
      "cell_type": "code",
      "source": [
        "df['size'].unique()"
      ],
      "metadata": {
        "colab": {
          "base_uri": "https://localhost:8080/"
        },
        "id": "YdLOY8h0n6p8",
        "outputId": "00a46b88-8e8e-4619-e6c1-5a5b3e625a34"
      },
      "execution_count": null,
      "outputs": [
        {
          "output_type": "execute_result",
          "data": {
            "text/plain": [
              "array(['large', 'MEDIUM', 'medium', 'small', 'Small', 'Large', 'SMALL',\n",
              "       'Medium', 'LARGE'], dtype=object)"
            ]
          },
          "metadata": {},
          "execution_count": 13
        }
      ]
    },
    {
      "cell_type": "code",
      "source": [
        "df['size'].isna().any()"
      ],
      "metadata": {
        "colab": {
          "base_uri": "https://localhost:8080/"
        },
        "id": "11q0AG-epT3I",
        "outputId": "53dbc131-1ad4-4b0a-fb92-847e44f85aa2"
      },
      "execution_count": null,
      "outputs": [
        {
          "output_type": "execute_result",
          "data": {
            "text/plain": [
              "False"
            ]
          },
          "metadata": {},
          "execution_count": 14
        }
      ]
    },
    {
      "cell_type": "code",
      "source": [
        "df['size'] = df['size'].str.capitalize()"
      ],
      "metadata": {
        "id": "cFFTMsJypGvG"
      },
      "execution_count": null,
      "outputs": []
    },
    {
      "cell_type": "code",
      "source": [
        "df['price'].isna().any()"
      ],
      "metadata": {
        "colab": {
          "base_uri": "https://localhost:8080/"
        },
        "id": "PdeGnaJ-qJJR",
        "outputId": "94b5e94e-0efd-42c2-f168-13f604cfafac"
      },
      "execution_count": null,
      "outputs": [
        {
          "output_type": "execute_result",
          "data": {
            "text/plain": [
              "False"
            ]
          },
          "metadata": {},
          "execution_count": 16
        }
      ]
    },
    {
      "cell_type": "code",
      "source": [
        "df['price'] = pd.to_numeric(df['price'], errors='coerce')"
      ],
      "metadata": {
        "id": "34XVoB9MqxrP"
      },
      "execution_count": null,
      "outputs": []
    },
    {
      "cell_type": "code",
      "source": [
        "median_value = df['price'].median()"
      ],
      "metadata": {
        "id": "N8WHfyTPsP9P"
      },
      "execution_count": null,
      "outputs": []
    },
    {
      "cell_type": "code",
      "source": [
        "df['price'].fillna(median_value, inplace=True)"
      ],
      "metadata": {
        "id": "x77s5e_MsZP9"
      },
      "execution_count": null,
      "outputs": []
    },
    {
      "cell_type": "code",
      "source": [
        "df"
      ],
      "metadata": {
        "colab": {
          "base_uri": "https://localhost:8080/",
          "height": 423
        },
        "id": "C5pFzSr5sjX5",
        "outputId": "714c5d9c-3e87-417b-d036-f6e57fe4e9e5"
      },
      "execution_count": null,
      "outputs": [
        {
          "output_type": "execute_result",
          "data": {
            "text/plain": [
              "      product_id   category animal    size  price    sales  rating  \\\n",
              "0              1       Food   Bird   Large  51.10  1860.62     7.0   \n",
              "1              2    Housing   Bird  Medium  35.98   963.60     6.0   \n",
              "2              3       Food    Dog  Medium  31.23   898.30     5.0   \n",
              "3              4   Medicine    Cat   Small  24.95   982.15     6.0   \n",
              "4              5    Housing    Cat   Small  26.18   832.63     7.0   \n",
              "...          ...        ...    ...     ...    ...      ...     ...   \n",
              "1495        1496       Food   Bird  Medium  40.91  1203.36     5.0   \n",
              "1496        1497  Equipment    Dog   Small  32.89  1099.97     5.0   \n",
              "1497        1498       Food   Fish   Small  25.79   724.02     3.0   \n",
              "1498        1499   Medicine   Fish   Small  19.94   658.66     5.0   \n",
              "1499        1500       Food    Cat  Medium  25.95   826.08     4.0   \n",
              "\n",
              "      repeat_purchase  \n",
              "0                   1  \n",
              "1                   0  \n",
              "2                   1  \n",
              "3                   1  \n",
              "4                   1  \n",
              "...               ...  \n",
              "1495                0  \n",
              "1496                0  \n",
              "1497                0  \n",
              "1498                1  \n",
              "1499                1  \n",
              "\n",
              "[1500 rows x 8 columns]"
            ],
            "text/html": [
              "\n",
              "  <div id=\"df-12afb958-dfb0-40f3-bebf-21eb7eed84b4\" class=\"colab-df-container\">\n",
              "    <div>\n",
              "<style scoped>\n",
              "    .dataframe tbody tr th:only-of-type {\n",
              "        vertical-align: middle;\n",
              "    }\n",
              "\n",
              "    .dataframe tbody tr th {\n",
              "        vertical-align: top;\n",
              "    }\n",
              "\n",
              "    .dataframe thead th {\n",
              "        text-align: right;\n",
              "    }\n",
              "</style>\n",
              "<table border=\"1\" class=\"dataframe\">\n",
              "  <thead>\n",
              "    <tr style=\"text-align: right;\">\n",
              "      <th></th>\n",
              "      <th>product_id</th>\n",
              "      <th>category</th>\n",
              "      <th>animal</th>\n",
              "      <th>size</th>\n",
              "      <th>price</th>\n",
              "      <th>sales</th>\n",
              "      <th>rating</th>\n",
              "      <th>repeat_purchase</th>\n",
              "    </tr>\n",
              "  </thead>\n",
              "  <tbody>\n",
              "    <tr>\n",
              "      <th>0</th>\n",
              "      <td>1</td>\n",
              "      <td>Food</td>\n",
              "      <td>Bird</td>\n",
              "      <td>Large</td>\n",
              "      <td>51.10</td>\n",
              "      <td>1860.62</td>\n",
              "      <td>7.0</td>\n",
              "      <td>1</td>\n",
              "    </tr>\n",
              "    <tr>\n",
              "      <th>1</th>\n",
              "      <td>2</td>\n",
              "      <td>Housing</td>\n",
              "      <td>Bird</td>\n",
              "      <td>Medium</td>\n",
              "      <td>35.98</td>\n",
              "      <td>963.60</td>\n",
              "      <td>6.0</td>\n",
              "      <td>0</td>\n",
              "    </tr>\n",
              "    <tr>\n",
              "      <th>2</th>\n",
              "      <td>3</td>\n",
              "      <td>Food</td>\n",
              "      <td>Dog</td>\n",
              "      <td>Medium</td>\n",
              "      <td>31.23</td>\n",
              "      <td>898.30</td>\n",
              "      <td>5.0</td>\n",
              "      <td>1</td>\n",
              "    </tr>\n",
              "    <tr>\n",
              "      <th>3</th>\n",
              "      <td>4</td>\n",
              "      <td>Medicine</td>\n",
              "      <td>Cat</td>\n",
              "      <td>Small</td>\n",
              "      <td>24.95</td>\n",
              "      <td>982.15</td>\n",
              "      <td>6.0</td>\n",
              "      <td>1</td>\n",
              "    </tr>\n",
              "    <tr>\n",
              "      <th>4</th>\n",
              "      <td>5</td>\n",
              "      <td>Housing</td>\n",
              "      <td>Cat</td>\n",
              "      <td>Small</td>\n",
              "      <td>26.18</td>\n",
              "      <td>832.63</td>\n",
              "      <td>7.0</td>\n",
              "      <td>1</td>\n",
              "    </tr>\n",
              "    <tr>\n",
              "      <th>...</th>\n",
              "      <td>...</td>\n",
              "      <td>...</td>\n",
              "      <td>...</td>\n",
              "      <td>...</td>\n",
              "      <td>...</td>\n",
              "      <td>...</td>\n",
              "      <td>...</td>\n",
              "      <td>...</td>\n",
              "    </tr>\n",
              "    <tr>\n",
              "      <th>1495</th>\n",
              "      <td>1496</td>\n",
              "      <td>Food</td>\n",
              "      <td>Bird</td>\n",
              "      <td>Medium</td>\n",
              "      <td>40.91</td>\n",
              "      <td>1203.36</td>\n",
              "      <td>5.0</td>\n",
              "      <td>0</td>\n",
              "    </tr>\n",
              "    <tr>\n",
              "      <th>1496</th>\n",
              "      <td>1497</td>\n",
              "      <td>Equipment</td>\n",
              "      <td>Dog</td>\n",
              "      <td>Small</td>\n",
              "      <td>32.89</td>\n",
              "      <td>1099.97</td>\n",
              "      <td>5.0</td>\n",
              "      <td>0</td>\n",
              "    </tr>\n",
              "    <tr>\n",
              "      <th>1497</th>\n",
              "      <td>1498</td>\n",
              "      <td>Food</td>\n",
              "      <td>Fish</td>\n",
              "      <td>Small</td>\n",
              "      <td>25.79</td>\n",
              "      <td>724.02</td>\n",
              "      <td>3.0</td>\n",
              "      <td>0</td>\n",
              "    </tr>\n",
              "    <tr>\n",
              "      <th>1498</th>\n",
              "      <td>1499</td>\n",
              "      <td>Medicine</td>\n",
              "      <td>Fish</td>\n",
              "      <td>Small</td>\n",
              "      <td>19.94</td>\n",
              "      <td>658.66</td>\n",
              "      <td>5.0</td>\n",
              "      <td>1</td>\n",
              "    </tr>\n",
              "    <tr>\n",
              "      <th>1499</th>\n",
              "      <td>1500</td>\n",
              "      <td>Food</td>\n",
              "      <td>Cat</td>\n",
              "      <td>Medium</td>\n",
              "      <td>25.95</td>\n",
              "      <td>826.08</td>\n",
              "      <td>4.0</td>\n",
              "      <td>1</td>\n",
              "    </tr>\n",
              "  </tbody>\n",
              "</table>\n",
              "<p>1500 rows × 8 columns</p>\n",
              "</div>\n",
              "    <div class=\"colab-df-buttons\">\n",
              "\n",
              "  <div class=\"colab-df-container\">\n",
              "    <button class=\"colab-df-convert\" onclick=\"convertToInteractive('df-12afb958-dfb0-40f3-bebf-21eb7eed84b4')\"\n",
              "            title=\"Convert this dataframe to an interactive table.\"\n",
              "            style=\"display:none;\">\n",
              "\n",
              "  <svg xmlns=\"http://www.w3.org/2000/svg\" height=\"24px\" viewBox=\"0 -960 960 960\">\n",
              "    <path d=\"M120-120v-720h720v720H120Zm60-500h600v-160H180v160Zm220 220h160v-160H400v160Zm0 220h160v-160H400v160ZM180-400h160v-160H180v160Zm440 0h160v-160H620v160ZM180-180h160v-160H180v160Zm440 0h160v-160H620v160Z\"/>\n",
              "  </svg>\n",
              "    </button>\n",
              "\n",
              "  <style>\n",
              "    .colab-df-container {\n",
              "      display:flex;\n",
              "      gap: 12px;\n",
              "    }\n",
              "\n",
              "    .colab-df-convert {\n",
              "      background-color: #E8F0FE;\n",
              "      border: none;\n",
              "      border-radius: 50%;\n",
              "      cursor: pointer;\n",
              "      display: none;\n",
              "      fill: #1967D2;\n",
              "      height: 32px;\n",
              "      padding: 0 0 0 0;\n",
              "      width: 32px;\n",
              "    }\n",
              "\n",
              "    .colab-df-convert:hover {\n",
              "      background-color: #E2EBFA;\n",
              "      box-shadow: 0px 1px 2px rgba(60, 64, 67, 0.3), 0px 1px 3px 1px rgba(60, 64, 67, 0.15);\n",
              "      fill: #174EA6;\n",
              "    }\n",
              "\n",
              "    .colab-df-buttons div {\n",
              "      margin-bottom: 4px;\n",
              "    }\n",
              "\n",
              "    [theme=dark] .colab-df-convert {\n",
              "      background-color: #3B4455;\n",
              "      fill: #D2E3FC;\n",
              "    }\n",
              "\n",
              "    [theme=dark] .colab-df-convert:hover {\n",
              "      background-color: #434B5C;\n",
              "      box-shadow: 0px 1px 3px 1px rgba(0, 0, 0, 0.15);\n",
              "      filter: drop-shadow(0px 1px 2px rgba(0, 0, 0, 0.3));\n",
              "      fill: #FFFFFF;\n",
              "    }\n",
              "  </style>\n",
              "\n",
              "    <script>\n",
              "      const buttonEl =\n",
              "        document.querySelector('#df-12afb958-dfb0-40f3-bebf-21eb7eed84b4 button.colab-df-convert');\n",
              "      buttonEl.style.display =\n",
              "        google.colab.kernel.accessAllowed ? 'block' : 'none';\n",
              "\n",
              "      async function convertToInteractive(key) {\n",
              "        const element = document.querySelector('#df-12afb958-dfb0-40f3-bebf-21eb7eed84b4');\n",
              "        const dataTable =\n",
              "          await google.colab.kernel.invokeFunction('convertToInteractive',\n",
              "                                                    [key], {});\n",
              "        if (!dataTable) return;\n",
              "\n",
              "        const docLinkHtml = 'Like what you see? Visit the ' +\n",
              "          '<a target=\"_blank\" href=https://colab.research.google.com/notebooks/data_table.ipynb>data table notebook</a>'\n",
              "          + ' to learn more about interactive tables.';\n",
              "        element.innerHTML = '';\n",
              "        dataTable['output_type'] = 'display_data';\n",
              "        await google.colab.output.renderOutput(dataTable, element);\n",
              "        const docLink = document.createElement('div');\n",
              "        docLink.innerHTML = docLinkHtml;\n",
              "        element.appendChild(docLink);\n",
              "      }\n",
              "    </script>\n",
              "  </div>\n",
              "\n",
              "\n",
              "<div id=\"df-84562e27-601f-4727-ae74-d62d65f1dea5\">\n",
              "  <button class=\"colab-df-quickchart\" onclick=\"quickchart('df-84562e27-601f-4727-ae74-d62d65f1dea5')\"\n",
              "            title=\"Suggest charts.\"\n",
              "            style=\"display:none;\">\n",
              "\n",
              "<svg xmlns=\"http://www.w3.org/2000/svg\" height=\"24px\"viewBox=\"0 0 24 24\"\n",
              "     width=\"24px\">\n",
              "    <g>\n",
              "        <path d=\"M19 3H5c-1.1 0-2 .9-2 2v14c0 1.1.9 2 2 2h14c1.1 0 2-.9 2-2V5c0-1.1-.9-2-2-2zM9 17H7v-7h2v7zm4 0h-2V7h2v10zm4 0h-2v-4h2v4z\"/>\n",
              "    </g>\n",
              "</svg>\n",
              "  </button>\n",
              "\n",
              "<style>\n",
              "  .colab-df-quickchart {\n",
              "    background-color: #E8F0FE;\n",
              "    border: none;\n",
              "    border-radius: 50%;\n",
              "    cursor: pointer;\n",
              "    display: none;\n",
              "    fill: #1967D2;\n",
              "    height: 32px;\n",
              "    padding: 0 0 0 0;\n",
              "    width: 32px;\n",
              "  }\n",
              "\n",
              "  .colab-df-quickchart:hover {\n",
              "    background-color: #E2EBFA;\n",
              "    box-shadow: 0px 1px 2px rgba(60, 64, 67, 0.3), 0px 1px 3px 1px rgba(60, 64, 67, 0.15);\n",
              "    fill: #174EA6;\n",
              "  }\n",
              "\n",
              "  [theme=dark] .colab-df-quickchart {\n",
              "    background-color: #3B4455;\n",
              "    fill: #D2E3FC;\n",
              "  }\n",
              "\n",
              "  [theme=dark] .colab-df-quickchart:hover {\n",
              "    background-color: #434B5C;\n",
              "    box-shadow: 0px 1px 3px 1px rgba(0, 0, 0, 0.15);\n",
              "    filter: drop-shadow(0px 1px 2px rgba(0, 0, 0, 0.3));\n",
              "    fill: #FFFFFF;\n",
              "  }\n",
              "</style>\n",
              "\n",
              "  <script>\n",
              "    async function quickchart(key) {\n",
              "      const charts = await google.colab.kernel.invokeFunction(\n",
              "          'suggestCharts', [key], {});\n",
              "    }\n",
              "    (() => {\n",
              "      let quickchartButtonEl =\n",
              "        document.querySelector('#df-84562e27-601f-4727-ae74-d62d65f1dea5 button');\n",
              "      quickchartButtonEl.style.display =\n",
              "        google.colab.kernel.accessAllowed ? 'block' : 'none';\n",
              "    })();\n",
              "  </script>\n",
              "</div>\n",
              "    </div>\n",
              "  </div>\n"
            ]
          },
          "metadata": {},
          "execution_count": 20
        }
      ]
    },
    {
      "cell_type": "code",
      "source": [
        "df.to_csv('price.csv', index=False)"
      ],
      "metadata": {
        "id": "McahIY8bsuLb"
      },
      "execution_count": null,
      "outputs": []
    },
    {
      "cell_type": "code",
      "source": [
        "df['price'] = df['price'].astype(float).round(2)"
      ],
      "metadata": {
        "id": "7sj2jEdLtVE4"
      },
      "execution_count": null,
      "outputs": []
    },
    {
      "cell_type": "code",
      "source": [
        "df.to_csv('price1.csv', index=False)"
      ],
      "metadata": {
        "id": "5H84wNAUuOoA"
      },
      "execution_count": null,
      "outputs": []
    },
    {
      "cell_type": "code",
      "source": [
        "df['sales'].isna().any()"
      ],
      "metadata": {
        "colab": {
          "base_uri": "https://localhost:8080/"
        },
        "id": "7Cp0KfuSvDzK",
        "outputId": "8b0075de-ef77-4bf2-9d06-3fb2561bf0eb"
      },
      "execution_count": null,
      "outputs": [
        {
          "output_type": "execute_result",
          "data": {
            "text/plain": [
              "False"
            ]
          },
          "metadata": {},
          "execution_count": 24
        }
      ]
    },
    {
      "cell_type": "code",
      "source": [
        "df['rating'].isna().sum()"
      ],
      "metadata": {
        "colab": {
          "base_uri": "https://localhost:8080/"
        },
        "id": "-vFQFdAGwPnK",
        "outputId": "01179572-4102-4aae-959a-3782f0df05f6"
      },
      "execution_count": null,
      "outputs": [
        {
          "output_type": "execute_result",
          "data": {
            "text/plain": [
              "150"
            ]
          },
          "metadata": {},
          "execution_count": 25
        }
      ]
    },
    {
      "cell_type": "code",
      "source": [
        "df['rating'].fillna(0, inplace=True)"
      ],
      "metadata": {
        "id": "HbsbpxsA00Td"
      },
      "execution_count": null,
      "outputs": []
    },
    {
      "cell_type": "code",
      "source": [
        "df['rating'].isna().sum()"
      ],
      "metadata": {
        "colab": {
          "base_uri": "https://localhost:8080/"
        },
        "id": "g0t3CqQx04vk",
        "outputId": "093c5d9f-39a1-45e9-ef89-66883240b006"
      },
      "execution_count": null,
      "outputs": [
        {
          "output_type": "execute_result",
          "data": {
            "text/plain": [
              "0"
            ]
          },
          "metadata": {},
          "execution_count": 27
        }
      ]
    },
    {
      "cell_type": "code",
      "source": [
        "df['sales'].isna().any()"
      ],
      "metadata": {
        "colab": {
          "base_uri": "https://localhost:8080/"
        },
        "id": "8Twk7G4Q1tGI",
        "outputId": "b10fee68-f091-4077-92f6-41288d4166d0"
      },
      "execution_count": null,
      "outputs": [
        {
          "output_type": "execute_result",
          "data": {
            "text/plain": [
              "False"
            ]
          },
          "metadata": {},
          "execution_count": 28
        }
      ]
    },
    {
      "cell_type": "code",
      "source": [
        "df['repeat_purchase'].isna().any()"
      ],
      "metadata": {
        "colab": {
          "base_uri": "https://localhost:8080/"
        },
        "id": "J6B8QwR_2KTC",
        "outputId": "61495537-9dc6-4550-9786-cd3d47e011f7"
      },
      "execution_count": null,
      "outputs": [
        {
          "output_type": "execute_result",
          "data": {
            "text/plain": [
              "False"
            ]
          },
          "metadata": {},
          "execution_count": 29
        }
      ]
    },
    {
      "cell_type": "code",
      "source": [
        "df['repeat_purchase'].isna().sum()"
      ],
      "metadata": {
        "colab": {
          "base_uri": "https://localhost:8080/"
        },
        "id": "NQSv0QiP2UHu",
        "outputId": "d987607b-c487-412d-d9e1-1f692e6b4e3e"
      },
      "execution_count": null,
      "outputs": [
        {
          "output_type": "execute_result",
          "data": {
            "text/plain": [
              "0"
            ]
          },
          "metadata": {},
          "execution_count": 30
        }
      ]
    },
    {
      "cell_type": "code",
      "source": [
        "df.describe()"
      ],
      "metadata": {
        "colab": {
          "base_uri": "https://localhost:8080/",
          "height": 300
        },
        "id": "2--oJces2jfG",
        "outputId": "fce776f9-3dde-4938-95fe-a4456c8eccd4"
      },
      "execution_count": null,
      "outputs": [
        {
          "output_type": "execute_result",
          "data": {
            "text/plain": [
              "        product_id        price        sales       rating  repeat_purchase\n",
              "count  1500.000000  1500.000000  1500.000000  1500.000000      1500.000000\n",
              "mean    750.500000    29.287873   996.597847     4.492000         0.604000\n",
              "std     433.157015     7.335833   323.952676     2.105443         0.489228\n",
              "min       1.000000    12.850000   286.940000     0.000000         0.000000\n",
              "25%     375.750000    25.000000   747.420000     3.000000         0.000000\n",
              "50%     750.500000    28.060000  1000.830000     5.000000         1.000000\n",
              "75%    1125.250000    33.142500  1158.157500     6.000000         1.000000\n",
              "max    1500.000000    54.160000  2255.960000     9.000000         1.000000"
            ],
            "text/html": [
              "\n",
              "  <div id=\"df-f42cad18-283c-4dc1-9dae-59a15071963e\" class=\"colab-df-container\">\n",
              "    <div>\n",
              "<style scoped>\n",
              "    .dataframe tbody tr th:only-of-type {\n",
              "        vertical-align: middle;\n",
              "    }\n",
              "\n",
              "    .dataframe tbody tr th {\n",
              "        vertical-align: top;\n",
              "    }\n",
              "\n",
              "    .dataframe thead th {\n",
              "        text-align: right;\n",
              "    }\n",
              "</style>\n",
              "<table border=\"1\" class=\"dataframe\">\n",
              "  <thead>\n",
              "    <tr style=\"text-align: right;\">\n",
              "      <th></th>\n",
              "      <th>product_id</th>\n",
              "      <th>price</th>\n",
              "      <th>sales</th>\n",
              "      <th>rating</th>\n",
              "      <th>repeat_purchase</th>\n",
              "    </tr>\n",
              "  </thead>\n",
              "  <tbody>\n",
              "    <tr>\n",
              "      <th>count</th>\n",
              "      <td>1500.000000</td>\n",
              "      <td>1500.000000</td>\n",
              "      <td>1500.000000</td>\n",
              "      <td>1500.000000</td>\n",
              "      <td>1500.000000</td>\n",
              "    </tr>\n",
              "    <tr>\n",
              "      <th>mean</th>\n",
              "      <td>750.500000</td>\n",
              "      <td>29.287873</td>\n",
              "      <td>996.597847</td>\n",
              "      <td>4.492000</td>\n",
              "      <td>0.604000</td>\n",
              "    </tr>\n",
              "    <tr>\n",
              "      <th>std</th>\n",
              "      <td>433.157015</td>\n",
              "      <td>7.335833</td>\n",
              "      <td>323.952676</td>\n",
              "      <td>2.105443</td>\n",
              "      <td>0.489228</td>\n",
              "    </tr>\n",
              "    <tr>\n",
              "      <th>min</th>\n",
              "      <td>1.000000</td>\n",
              "      <td>12.850000</td>\n",
              "      <td>286.940000</td>\n",
              "      <td>0.000000</td>\n",
              "      <td>0.000000</td>\n",
              "    </tr>\n",
              "    <tr>\n",
              "      <th>25%</th>\n",
              "      <td>375.750000</td>\n",
              "      <td>25.000000</td>\n",
              "      <td>747.420000</td>\n",
              "      <td>3.000000</td>\n",
              "      <td>0.000000</td>\n",
              "    </tr>\n",
              "    <tr>\n",
              "      <th>50%</th>\n",
              "      <td>750.500000</td>\n",
              "      <td>28.060000</td>\n",
              "      <td>1000.830000</td>\n",
              "      <td>5.000000</td>\n",
              "      <td>1.000000</td>\n",
              "    </tr>\n",
              "    <tr>\n",
              "      <th>75%</th>\n",
              "      <td>1125.250000</td>\n",
              "      <td>33.142500</td>\n",
              "      <td>1158.157500</td>\n",
              "      <td>6.000000</td>\n",
              "      <td>1.000000</td>\n",
              "    </tr>\n",
              "    <tr>\n",
              "      <th>max</th>\n",
              "      <td>1500.000000</td>\n",
              "      <td>54.160000</td>\n",
              "      <td>2255.960000</td>\n",
              "      <td>9.000000</td>\n",
              "      <td>1.000000</td>\n",
              "    </tr>\n",
              "  </tbody>\n",
              "</table>\n",
              "</div>\n",
              "    <div class=\"colab-df-buttons\">\n",
              "\n",
              "  <div class=\"colab-df-container\">\n",
              "    <button class=\"colab-df-convert\" onclick=\"convertToInteractive('df-f42cad18-283c-4dc1-9dae-59a15071963e')\"\n",
              "            title=\"Convert this dataframe to an interactive table.\"\n",
              "            style=\"display:none;\">\n",
              "\n",
              "  <svg xmlns=\"http://www.w3.org/2000/svg\" height=\"24px\" viewBox=\"0 -960 960 960\">\n",
              "    <path d=\"M120-120v-720h720v720H120Zm60-500h600v-160H180v160Zm220 220h160v-160H400v160Zm0 220h160v-160H400v160ZM180-400h160v-160H180v160Zm440 0h160v-160H620v160ZM180-180h160v-160H180v160Zm440 0h160v-160H620v160Z\"/>\n",
              "  </svg>\n",
              "    </button>\n",
              "\n",
              "  <style>\n",
              "    .colab-df-container {\n",
              "      display:flex;\n",
              "      gap: 12px;\n",
              "    }\n",
              "\n",
              "    .colab-df-convert {\n",
              "      background-color: #E8F0FE;\n",
              "      border: none;\n",
              "      border-radius: 50%;\n",
              "      cursor: pointer;\n",
              "      display: none;\n",
              "      fill: #1967D2;\n",
              "      height: 32px;\n",
              "      padding: 0 0 0 0;\n",
              "      width: 32px;\n",
              "    }\n",
              "\n",
              "    .colab-df-convert:hover {\n",
              "      background-color: #E2EBFA;\n",
              "      box-shadow: 0px 1px 2px rgba(60, 64, 67, 0.3), 0px 1px 3px 1px rgba(60, 64, 67, 0.15);\n",
              "      fill: #174EA6;\n",
              "    }\n",
              "\n",
              "    .colab-df-buttons div {\n",
              "      margin-bottom: 4px;\n",
              "    }\n",
              "\n",
              "    [theme=dark] .colab-df-convert {\n",
              "      background-color: #3B4455;\n",
              "      fill: #D2E3FC;\n",
              "    }\n",
              "\n",
              "    [theme=dark] .colab-df-convert:hover {\n",
              "      background-color: #434B5C;\n",
              "      box-shadow: 0px 1px 3px 1px rgba(0, 0, 0, 0.15);\n",
              "      filter: drop-shadow(0px 1px 2px rgba(0, 0, 0, 0.3));\n",
              "      fill: #FFFFFF;\n",
              "    }\n",
              "  </style>\n",
              "\n",
              "    <script>\n",
              "      const buttonEl =\n",
              "        document.querySelector('#df-f42cad18-283c-4dc1-9dae-59a15071963e button.colab-df-convert');\n",
              "      buttonEl.style.display =\n",
              "        google.colab.kernel.accessAllowed ? 'block' : 'none';\n",
              "\n",
              "      async function convertToInteractive(key) {\n",
              "        const element = document.querySelector('#df-f42cad18-283c-4dc1-9dae-59a15071963e');\n",
              "        const dataTable =\n",
              "          await google.colab.kernel.invokeFunction('convertToInteractive',\n",
              "                                                    [key], {});\n",
              "        if (!dataTable) return;\n",
              "\n",
              "        const docLinkHtml = 'Like what you see? Visit the ' +\n",
              "          '<a target=\"_blank\" href=https://colab.research.google.com/notebooks/data_table.ipynb>data table notebook</a>'\n",
              "          + ' to learn more about interactive tables.';\n",
              "        element.innerHTML = '';\n",
              "        dataTable['output_type'] = 'display_data';\n",
              "        await google.colab.output.renderOutput(dataTable, element);\n",
              "        const docLink = document.createElement('div');\n",
              "        docLink.innerHTML = docLinkHtml;\n",
              "        element.appendChild(docLink);\n",
              "      }\n",
              "    </script>\n",
              "  </div>\n",
              "\n",
              "\n",
              "<div id=\"df-85a86fa3-b2a8-4461-875a-53afa818a0bc\">\n",
              "  <button class=\"colab-df-quickchart\" onclick=\"quickchart('df-85a86fa3-b2a8-4461-875a-53afa818a0bc')\"\n",
              "            title=\"Suggest charts.\"\n",
              "            style=\"display:none;\">\n",
              "\n",
              "<svg xmlns=\"http://www.w3.org/2000/svg\" height=\"24px\"viewBox=\"0 0 24 24\"\n",
              "     width=\"24px\">\n",
              "    <g>\n",
              "        <path d=\"M19 3H5c-1.1 0-2 .9-2 2v14c0 1.1.9 2 2 2h14c1.1 0 2-.9 2-2V5c0-1.1-.9-2-2-2zM9 17H7v-7h2v7zm4 0h-2V7h2v10zm4 0h-2v-4h2v4z\"/>\n",
              "    </g>\n",
              "</svg>\n",
              "  </button>\n",
              "\n",
              "<style>\n",
              "  .colab-df-quickchart {\n",
              "    background-color: #E8F0FE;\n",
              "    border: none;\n",
              "    border-radius: 50%;\n",
              "    cursor: pointer;\n",
              "    display: none;\n",
              "    fill: #1967D2;\n",
              "    height: 32px;\n",
              "    padding: 0 0 0 0;\n",
              "    width: 32px;\n",
              "  }\n",
              "\n",
              "  .colab-df-quickchart:hover {\n",
              "    background-color: #E2EBFA;\n",
              "    box-shadow: 0px 1px 2px rgba(60, 64, 67, 0.3), 0px 1px 3px 1px rgba(60, 64, 67, 0.15);\n",
              "    fill: #174EA6;\n",
              "  }\n",
              "\n",
              "  [theme=dark] .colab-df-quickchart {\n",
              "    background-color: #3B4455;\n",
              "    fill: #D2E3FC;\n",
              "  }\n",
              "\n",
              "  [theme=dark] .colab-df-quickchart:hover {\n",
              "    background-color: #434B5C;\n",
              "    box-shadow: 0px 1px 3px 1px rgba(0, 0, 0, 0.15);\n",
              "    filter: drop-shadow(0px 1px 2px rgba(0, 0, 0, 0.3));\n",
              "    fill: #FFFFFF;\n",
              "  }\n",
              "</style>\n",
              "\n",
              "  <script>\n",
              "    async function quickchart(key) {\n",
              "      const charts = await google.colab.kernel.invokeFunction(\n",
              "          'suggestCharts', [key], {});\n",
              "    }\n",
              "    (() => {\n",
              "      let quickchartButtonEl =\n",
              "        document.querySelector('#df-85a86fa3-b2a8-4461-875a-53afa818a0bc button');\n",
              "      quickchartButtonEl.style.display =\n",
              "        google.colab.kernel.accessAllowed ? 'block' : 'none';\n",
              "    })();\n",
              "  </script>\n",
              "</div>\n",
              "    </div>\n",
              "  </div>\n"
            ]
          },
          "metadata": {},
          "execution_count": 27
        }
      ]
    },
    {
      "cell_type": "code",
      "source": [
        "df.shape"
      ],
      "metadata": {
        "colab": {
          "base_uri": "https://localhost:8080/"
        },
        "id": "Lz-J0h-v2oWQ",
        "outputId": "e41c70d7-b9c9-4a93-ea5e-115a2e2917d9"
      },
      "execution_count": null,
      "outputs": [
        {
          "output_type": "execute_result",
          "data": {
            "text/plain": [
              "(1500, 8)"
            ]
          },
          "metadata": {},
          "execution_count": 28
        }
      ]
    },
    {
      "cell_type": "code",
      "source": [
        "repeat_purchase_by_category = df.groupby('category')['repeat_purchase'].sum()\n",
        "print(repeat_purchase_by_category)"
      ],
      "metadata": {
        "colab": {
          "base_uri": "https://localhost:8080/"
        },
        "id": "rvKpri5UZ7uh",
        "outputId": "52b3d442-f417-4b9a-8576-2c0c1654b1da"
      },
      "execution_count": null,
      "outputs": [
        {
          "output_type": "stream",
          "name": "stdout",
          "text": [
            "category\n",
            "Accessory     70\n",
            "Equipment    221\n",
            "Food         151\n",
            "Housing      152\n",
            "Medicine     153\n",
            "Toys         145\n",
            "Unknown       14\n",
            "Name: repeat_purchase, dtype: int64\n"
          ]
        }
      ]
    },
    {
      "cell_type": "code",
      "source": [
        "df.isnull().sum()"
      ],
      "metadata": {
        "colab": {
          "base_uri": "https://localhost:8080/"
        },
        "id": "nExsAb5kmhd0",
        "outputId": "f02d86ed-0f88-4409-f518-15b7caaa1dee"
      },
      "execution_count": null,
      "outputs": [
        {
          "output_type": "execute_result",
          "data": {
            "text/plain": [
              "product_id         0\n",
              "category           0\n",
              "animal             0\n",
              "size               0\n",
              "price              0\n",
              "sales              0\n",
              "rating             0\n",
              "repeat_purchase    0\n",
              "dtype: int64"
            ]
          },
          "metadata": {},
          "execution_count": 30
        }
      ]
    },
    {
      "cell_type": "markdown",
      "source": [
        "## Visualizations"
      ],
      "metadata": {
        "id": "fwI4cE7vV1Z7"
      }
    },
    {
      "cell_type": "code",
      "source": [
        "import pandas as pd\n",
        "import matplotlib.pyplot as plt\n",
        "\n",
        "# count the number of repeat purchases\n",
        "repeat_purchases = df['repeat_purchase'].value_counts()\n",
        "\n",
        "# create a bar chart\n",
        "plt.bar(repeat_purchases.index, repeat_purchases.values)\n",
        "plt.xticks([0, 1], ['Not Repeat Purchase', 'Repeat Purchase'])\n",
        "plt.ylabel('Number of Products')\n",
        "plt.title('Number of Products that are Repeat Purchases')\n",
        "plt.savefig('Graph 1_i.png')"
      ],
      "metadata": {
        "colab": {
          "base_uri": "https://localhost:8080/",
          "height": 457
        },
        "id": "0I4qUVQl5Yql",
        "outputId": "10b4d96e-10df-417f-9ac5-a6a5cea91bf3"
      },
      "execution_count": null,
      "outputs": [
        {
          "output_type": "display_data",
          "data": {
            "text/plain": [
              "<Figure size 640x480 with 1 Axes>"
            ],
            "image/png": "[encoded data removed]"
          },
          "metadata": {}
        }
      ]
    },
    {
      "cell_type": "code",
      "source": [
        "import matplotlib.pyplot as plt\n",
        "import pandas as pd\n",
        "\n",
        "# Grouping the data by category and calculating the sum of repeat_purchase\n",
        "category_repeat_purchases = df.groupby('category')['repeat_purchase'].sum()\n",
        "\n",
        "# Creating the bar chart\n",
        "plt.figure(figsize=(10, 6))\n",
        "category_repeat_purchases.plot(kind='bar', color='skyblue')\n",
        "plt.title('Number of Repeat Purchases by Category')\n",
        "plt.xlabel('Category')\n",
        "plt.ylabel('Number of Repeat Purchases')\n",
        "plt.xticks(rotation=45, ha='right')\n",
        "plt.tight_layout()\n",
        "plt.savefig('Task2.png')"
      ],
      "metadata": {
        "colab": {
          "base_uri": "https://localhost:8080/",
          "height": 607
        },
        "id": "FUVGFlgq2p_f",
        "outputId": "441965a5-b27b-41c0-9dcc-a65edeb6333f"
      },
      "execution_count": null,
      "outputs": [
        {
          "output_type": "display_data",
          "data": {
            "text/plain": [
              "<Figure size 1000x600 with 1 Axes>"
            ],
            "image/png": "[encoded data removed]"
          },
          "metadata": {}
        }
      ]
    },
    {
      "cell_type": "code",
      "source": [
        "repeat_purchase_count = df['repeat_purchase'].sum()\n",
        "print(\"Number of products with repeat_purchase = 1:\", repeat_purchase_count)"
      ],
      "metadata": {
        "colab": {
          "base_uri": "https://localhost:8080/"
        },
        "id": "jm-hQbugAClD",
        "outputId": "4ddb5b25-4f6b-4ef4-831e-a8635447b6d5"
      },
      "execution_count": null,
      "outputs": [
        {
          "output_type": "stream",
          "name": "stdout",
          "text": [
            "Number of products with repeat_purchase = 1: 906\n"
          ]
        }
      ]
    },
    {
      "cell_type": "code",
      "source": [
        "repeat_purchase_zero_count = len(df[df['repeat_purchase'] == 0])\n",
        "\n",
        "print(\"Number of products with repeat_purchase = 0:\", repeat_purchase_zero_count)"
      ],
      "metadata": {
        "colab": {
          "base_uri": "https://localhost:8080/"
        },
        "id": "q3qf94QgA2Ym",
        "outputId": "c87e700a-4fd9-4ca1-fa39-92c9e3467813"
      },
      "execution_count": null,
      "outputs": [
        {
          "output_type": "stream",
          "name": "stdout",
          "text": [
            "Number of products with repeat_purchase = 0: 594\n"
          ]
        }
      ]
    },
    {
      "cell_type": "code",
      "source": [
        "import matplotlib.pyplot as plt\n",
        "import pandas as pd\n",
        "\n",
        "# Extract the sales values\n",
        "sales = df['sales']\n",
        "\n",
        "# Create a histogram\n",
        "plt.figure(figsize=(10, 6))\n",
        "plt.hist(sales, bins=10, edgecolor='black')  # You can adjust the number of bins\n",
        "plt.title('Distribution of Sales')\n",
        "plt.xlabel('Sales')\n",
        "plt.ylabel('Count')\n",
        "plt.xlim(0)  # Set the lower limit of x-axis to zero\n",
        "plt.ylim(0)\n",
        "x_ticks_interval = 250.0  # Specify the interval between ticks on the x-axis (as a float)\n",
        "x_ticks = [i * x_ticks_interval for i in range(int(min(sales) / x_ticks_interval), int(max(sales) / x_ticks_interval) + 1)]\n",
        "plt.xticks(x_ticks)  # Set the x-axis tick positions\n",
        "plt.grid(True)\n",
        "plt.savefig('Task 3.png')\n"
      ],
      "metadata": {
        "colab": {
          "base_uri": "https://localhost:8080/",
          "height": 564
        },
        "id": "M_23gWzUDVif",
        "outputId": "81d70a3e-9684-4040-d61b-e99a4db99896"
      },
      "execution_count": null,
      "outputs": [
        {
          "output_type": "display_data",
          "data": {
            "text/plain": [
              "<Figure size 1000x600 with 1 Axes>"
            ],
            "image/png": "[encoded data removed]"
          },
          "metadata": {}
        }
      ]
    },
    {
      "cell_type": "code",
      "source": [
        "import matplotlib.pyplot as plt\n",
        "import pandas as pd\n",
        "\n",
        "# Separate sales based on repeat_purchase values\n",
        "repeat_purchase_sales = df[df['repeat_purchase'] == 1]['sales']\n",
        "non_repeat_purchase_sales = df[df['repeat_purchase'] == 0]['sales']\n",
        "\n",
        "# Calculate summary statistics\n",
        "repeat_purchase_mean = repeat_purchase_sales.mean()\n",
        "repeat_purchase_median = repeat_purchase_sales.median()\n",
        "non_repeat_purchase_mean = non_repeat_purchase_sales.mean()\n",
        "non_repeat_purchase_median = non_repeat_purchase_sales.median()\n",
        "\n",
        "# Create a box plot to visualize the distribution of sales for both groups\n",
        "plt.figure(figsize=(10, 6))\n",
        "plt.boxplot([repeat_purchase_sales, non_repeat_purchase_sales], labels=['Repeat Purchase', 'Non-Repeat Purchase'])\n",
        "plt.title('Sales vs. Repeat Purchases')\n",
        "plt.ylabel('Sales')\n",
        "plt.grid(True)\n",
        "plt.show()\n",
        "\n",
        "# Print summary statistics\n",
        "print(\"Repeat Purchase - Mean Sales:\", repeat_purchase_mean)\n",
        "print(\"Repeat Purchase - Median Sales:\", repeat_purchase_median)\n",
        "print(\"Non-Repeat Purchase - Mean Sales:\", non_repeat_purchase_mean)\n",
        "print(\"Non-Repeat Purchase - Median Sales:\", non_repeat_purchase_median)\n"
      ],
      "metadata": {
        "colab": {
          "base_uri": "https://localhost:8080/",
          "height": 618
        },
        "id": "1bs34hCvKX3U",
        "outputId": "b9dcade0-cf10-47c4-f629-dbcc3089c8d7"
      },
      "execution_count": null,
      "outputs": [
        {
          "output_type": "display_data",
          "data": {
            "text/plain": [
              "<Figure size 1000x600 with 1 Axes>"
            ],
            "image/png": "[encoded data removed]"
          },
          "metadata": {}
        },
        {
          "output_type": "stream",
          "name": "stdout",
          "text": [
            "Repeat Purchase - Mean Sales: 975.7683995584988\n",
            "Repeat Purchase - Median Sales: 978.21\n",
            "Non-Repeat Purchase - Mean Sales: 1028.3680134680135\n",
            "Non-Repeat Purchase - Median Sales: 1030.185\n"
          ]
        }
      ]
    },
    {
      "cell_type": "code",
      "source": [
        "import matplotlib.pyplot as plt\n",
        "import seaborn as sns\n",
        "\n",
        "# Filter the DataFrame to include only repeat purchase products\n",
        "repeat_purchase_df = df[df['repeat_purchase'] == 1]\n",
        "\n",
        "plt.figure(figsize=(12, 8))\n",
        "sns.violinplot(data=repeat_purchase_df, x='category', y='sales')\n",
        "plt.title('Distribution of Sales for Repeat Purchase Products by Category')\n",
        "plt.xlabel('Category')\n",
        "plt.ylabel('Sales')\n",
        "plt.xticks(rotation=45)\n",
        "plt.grid(True)\n",
        "plt.savefig('Task4.png')\n"
      ],
      "metadata": {
        "colab": {
          "base_uri": "https://localhost:8080/",
          "height": 767
        },
        "id": "SDUzJYQ1kWAG",
        "outputId": "9ab004f5-0877-4b66-db3c-ea060a71efd0"
      },
      "execution_count": null,
      "outputs": [
        {
          "output_type": "display_data",
          "data": {
            "text/plain": [
              "<Figure size 1200x800 with 1 Axes>"
            ],
            "image/png": "[encoded data removed]"
          },
          "metadata": {}
        }
      ]
    }
  ]
}